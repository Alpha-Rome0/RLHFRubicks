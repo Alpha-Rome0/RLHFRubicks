{
 "cells": [
  {
   "cell_type": "code",
   "execution_count": 1,
   "id": "34a9aef2",
   "metadata": {},
   "outputs": [],
   "source": [
    "import random\n",
    "import csv\n",
    "import os"
   ]
  },
  {
   "cell_type": "code",
   "execution_count": 2,
   "id": "970d130b",
   "metadata": {},
   "outputs": [],
   "source": [
    "# function to create a valid state for the tic tac toe game\n",
    "# o represents player 1, x represents player 2, b represents blank\n",
    "# the 3x3 grid has been appended along rows to give a 9 character string\n",
    "def generate_state():\n",
    "    num_x = random.randint(0, 4)  # Random number of 'x' (0 to 4)\n",
    "    num_o = random.randint(num_x, num_x+1)  # Random number of 'o' (equal to or one more than 'x')\n",
    "    num_b = 9 - num_x - num_o  # Remaining characters will be 'b'\n",
    "\n",
    "    string_list = ['x'] * num_x + ['o'] * num_o + ['b'] * num_b\n",
    "    random.shuffle(string_list)  # Shuffle the list to get random order\n",
    "    return ''.join(string_list), num_o-num_x"
   ]
  },
  {
   "cell_type": "code",
   "execution_count": 3,
   "id": "2d21cdf1",
   "metadata": {},
   "outputs": [],
   "source": [
    "#function to discard states in which the game has already ended\n",
    "def check_positions(string):\n",
    "    # Define positions to check for all 'x' or all 'o'\n",
    "    positions_to_check = [\n",
    "        [0, 1, 2],  # 1st row\n",
    "        [3, 4, 5],  # 2nd row\n",
    "        [6, 7, 8],  # 3rd row\n",
    "        [0, 3, 6],  # 1st column\n",
    "        [1, 4, 7],  # 2nd column\n",
    "        [2, 5, 8],  # 3rd column\n",
    "        [0, 4, 8],  # diagonal from top-left to bottom-right\n",
    "        [2, 4, 6]   # diagonal from top-right to bottom-left\n",
    "    ]\n",
    "    \n",
    "    for positions in positions_to_check:\n",
    "        symbols = [string[pos] for pos in positions]\n",
    "        if symbols.count('x') == 3 or symbols.count('o') == 3 or 'b' not in string:\n",
    "            return True\n",
    "    return False"
   ]
  },
  {
   "cell_type": "code",
   "execution_count": 4,
   "id": "9e0db7ec",
   "metadata": {},
   "outputs": [
    {
     "name": "stdout",
     "output_type": "stream",
     "text": [
      "bbbobbbxb\n",
      "False\n",
      "0\n"
     ]
    }
   ],
   "source": [
    "# Test the function\n",
    "random_string, player = generate_state()\n",
    "print(random_string)\n",
    "print(check_positions(random_string))\n",
    "print(player)"
   ]
  },
  {
   "cell_type": "code",
   "execution_count": 5,
   "id": "f0d39685",
   "metadata": {},
   "outputs": [],
   "source": [
    "def check_two_in_a_row(grid_string):\n",
    "    # Define the indices for all possible two-in-a-row combinations\n",
    "    combinations = [\n",
    "        [0, 1, 2],  # 1st row\n",
    "        [3, 4, 5],  # 2nd row\n",
    "        [6, 7, 8],  # 3rd row\n",
    "        [0, 3, 6],  # 1st column\n",
    "        [1, 4, 7],  # 2nd column\n",
    "        [2, 5, 8],  # 3rd column\n",
    "        [0, 4, 8],  # diagonal from top-left to bottom-right\n",
    "        [2, 4, 6]   # diagonal from top-right to bottom-left\n",
    "    ]\n",
    "\n",
    "    for i, combination in enumerate(combinations):\n",
    "        symbols = [grid_string[j] for j in combination]\n",
    "        if (symbols.count('x') == 2 and symbols.count('o') == 0) or (symbols.count('o') == 2 and symbols.count('x') == 0):\n",
    "            return combination  # Return the index of the combination (corresponding to row or column)\n",
    "    return -1  # Return -1 if no such combination is found"
   ]
  },
  {
   "cell_type": "code",
   "execution_count": 6,
   "id": "3a0cd46d",
   "metadata": {},
   "outputs": [],
   "source": [
    "def optimal_move(state, player):\n",
    "    if player==0:\n",
    "        piece = \"o\"\n",
    "    else:\n",
    "        piece = \"x\"\n",
    "    combination = check_two_in_a_row(state)\n",
    "    if combination == -1:\n",
    "        if state[4] == \"b\":\n",
    "            move = piece+\"5\"\n",
    "            return move\n",
    "        \n",
    "        for i in [0,2,6,8]:\n",
    "            if state[i] == 'b':\n",
    "                move = piece+str(i+1)\n",
    "                return move\n",
    "        \n",
    "        return piece+str(state.index('b')+1)\n",
    "    else:\n",
    "        for index in combination:\n",
    "            if state[index] == 'b':\n",
    "                return piece+str(index+1) \n",
    "        "
   ]
  },
  {
   "cell_type": "code",
   "execution_count": 7,
   "id": "7f80e29c",
   "metadata": {},
   "outputs": [
    {
     "ename": "ValueError",
     "evalue": "substring not found",
     "output_type": "error",
     "traceback": [
      "\u001b[1;31m---------------------------------------------------------------------------\u001b[0m",
      "\u001b[1;31mValueError\u001b[0m                                Traceback (most recent call last)",
      "Cell \u001b[1;32mIn[7], line 2\u001b[0m\n\u001b[0;32m      1\u001b[0m random_string, player \u001b[38;5;241m=\u001b[39m generate_state()\n\u001b[1;32m----> 2\u001b[0m optim \u001b[38;5;241m=\u001b[39m optimal_move(random_string, player)\n\u001b[0;32m      3\u001b[0m \u001b[38;5;28mprint\u001b[39m(random_string)\n\u001b[0;32m      4\u001b[0m \u001b[38;5;28mprint\u001b[39m(optim)\n",
      "Cell \u001b[1;32mIn[6], line 17\u001b[0m, in \u001b[0;36moptimal_move\u001b[1;34m(state, player)\u001b[0m\n\u001b[0;32m     14\u001b[0m             move \u001b[38;5;241m=\u001b[39m piece\u001b[38;5;241m+\u001b[39m\u001b[38;5;28mstr\u001b[39m(i\u001b[38;5;241m+\u001b[39m\u001b[38;5;241m1\u001b[39m)\n\u001b[0;32m     15\u001b[0m             \u001b[38;5;28;01mreturn\u001b[39;00m move\n\u001b[1;32m---> 17\u001b[0m     \u001b[38;5;28;01mreturn\u001b[39;00m piece\u001b[38;5;241m+\u001b[39m\u001b[38;5;28mstr\u001b[39m(state\u001b[38;5;241m.\u001b[39mindex(\u001b[38;5;124m'\u001b[39m\u001b[38;5;124mb\u001b[39m\u001b[38;5;124m'\u001b[39m)\u001b[38;5;241m+\u001b[39m\u001b[38;5;241m1\u001b[39m)\n\u001b[0;32m     18\u001b[0m \u001b[38;5;28;01melse\u001b[39;00m:\n\u001b[0;32m     19\u001b[0m     \u001b[38;5;28;01mfor\u001b[39;00m index \u001b[38;5;129;01min\u001b[39;00m combination:\n",
      "\u001b[1;31mValueError\u001b[0m: substring not found"
     ]
    }
   ],
   "source": [
    "random_string, player = generate_state()\n",
    "optim = optimal_move(random_string, player)\n",
    "print(random_string)\n",
    "print(optim)"
   ]
  },
  {
   "cell_type": "code",
   "execution_count": 8,
   "id": "a6c1d630",
   "metadata": {},
   "outputs": [],
   "source": [
    "def append_to_csv(filename, data):\n",
    "    # Check if the file exists\n",
    "    file_exists = os.path.isfile(filename)\n",
    "    with open(filename, 'a', newline='') as csvfile:\n",
    "        writer = csv.writer(csvfile)\n",
    "        # If the file doesn't exist, write header\n",
    "        if not file_exists:\n",
    "            writer.writerow(['Game States', 'Optimal Moves'])  # Writing column headers\n",
    "        writer.writerow(data)"
   ]
  },
  {
   "cell_type": "code",
   "execution_count": 9,
   "id": "21e92afc",
   "metadata": {},
   "outputs": [],
   "source": [
    "i = 0\n",
    "while i<10000:  \n",
    "    state, player = generate_state()\n",
    "    if check_positions(state):\n",
    "        continue\n",
    "    move = optimal_move(state, player)\n",
    "    data = [state, move]\n",
    "    append_to_csv('ttt_data.csv', data)\n",
    "    i = i+1"
   ]
  }
 ],
 "metadata": {
  "kernelspec": {
   "display_name": "Python 3 (ipykernel)",
   "language": "python",
   "name": "python3"
  },
  "language_info": {
   "codemirror_mode": {
    "name": "ipython",
    "version": 3
   },
   "file_extension": ".py",
   "mimetype": "text/x-python",
   "name": "python",
   "nbconvert_exporter": "python",
   "pygments_lexer": "ipython3",
   "version": "3.11.4"
  }
 },
 "nbformat": 4,
 "nbformat_minor": 5
}
