{
 "cells": [
  {
   "cell_type": "code",
   "execution_count": 7,
   "metadata": {},
   "outputs": [
    {
     "name": "stdout",
     "output_type": "stream",
     "text": [
      "Using the Beginner solver\n",
      "0 215\n",
      "1 149\n",
      "2 220\n",
      "3 207\n",
      "4 225\n",
      "Using the CFOP solver\n",
      "0 94\n",
      "1 106\n",
      "2 100\n",
      "3 107\n",
      "4 95\n",
      "Using the Kociemba solver\n",
      "0 21\n",
      "1 21\n",
      "2 22\n",
      "3 22\n",
      "4 21\n"
     ]
    },
    {
     "data": {
      "image/png": "[encoded data removed]",
      "text/plain": [
       "<Figure size 400x200 with 1 Axes>"
      ]
     },
     "metadata": {},
     "output_type": "display_data"
    }
   ],
   "source": [
    "from pycubescrambler import nxn,side,non\n",
    "\n",
    "# Python >3.9 compatibility\n",
    "import collections.abc\n",
    "#hyper needs the four following aliases to be done manually.\n",
    "collections.Iterable = collections.abc.Iterable\n",
    "collections.Mapping = collections.abc.Mapping\n",
    "collections.MutableSet = collections.abc.MutableSet\n",
    "collections.MutableMapping = collections.abc.MutableMapping\n",
    "\n",
    "from rubik_solver.Cubie import Cube\n",
    "from rubik_solver import utils\n",
    "from rubik_solver.Move import Move\n",
    "\n",
    "# Plot histogram\n",
    "import matplotlib.pyplot as plt\n",
    "import numpy as np\n",
    "\n",
    "def cube_solve(scramble:str, solver:str): \n",
    "    cube = Cube()\n",
    "    for move in scramble.split(' ')[:-1]:\n",
    "        cube.move(Move(move))\n",
    "    naive = cube.to_naive_cube()\n",
    "    cubestr = naive.get_cube()\n",
    "    sln = utils.solve(cubestr, solver)\n",
    "    return sln\n",
    "\n",
    "N_TRIES = 200\n",
    "plt.figure(figsize=(4, 2))\n",
    "for solver in ['Beginner', 'CFOP', 'Kociemba']:\n",
    "    print(\"Using the\", solver, \"solver\")\n",
    "    sln_len_list = []\n",
    "    for i in range(N_TRIES):\n",
    "        scramble=nxn.get3()\n",
    "        sln = cube_solve(scramble, solver)\n",
    "        print(i, len(sln))\n",
    "        sln_len_list.append(len(sln))\n",
    "\n",
    "    plt.hist(sln_len_list, bins=np.arange(0, 300, 1), alpha=0.5, label=solver)\n",
    "\n",
    "plt.xlabel('Number of Steps')\n",
    "plt.ylabel('Count')\n",
    "plt.legend()\n",
    "plt.show()\n",
    "\n"
   ]
  }
 ],
 "metadata": {
  "kernelspec": {
   "display_name": "base",
   "language": "python",
   "name": "python3"
  },
  "language_info": {
   "codemirror_mode": {
    "name": "ipython",
    "version": 3
   },
   "file_extension": ".py",
   "mimetype": "text/x-python",
   "name": "python",
   "nbconvert_exporter": "python",
   "pygments_lexer": "ipython3",
   "version": "3.11.5"
  }
 },
 "nbformat": 4,
 "nbformat_minor": 2
}
