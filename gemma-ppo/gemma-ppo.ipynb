{
 "cells": [
  {
   "cell_type": "code",
   "execution_count": 1,
   "metadata": {
    "collapsed": true
   },
   "outputs": [
    {
     "name": "stdout",
     "output_type": "stream",
     "text": [
      "cuda:0\n"
     ]
    }
   ],
   "source": [
    "import torch, os\n",
    "from tqdm import tqdm\n",
    "from transformers import AutoTokenizer, AutoModelForCausalLM, BitsAndBytesConfig, GemmaTokenizer\n",
    "from trl import AutoModelForCausalLMWithValueHead, PPOConfig, PPOTrainer\n",
    "from dataset import load_data, RubiksDataset\n",
    "from torch.utils.data import DataLoader\n",
    "from reward import reward_model_strict\n",
    "from peft import LoraConfig\n",
    "import bitsandbytes as bnb\n",
    "\n",
    "LR = 1.41e-5\n",
    "BATCH_SIZE = 1\n",
    "MINI_BATCH_SIZE = 1\n",
    "\n",
    "bnb_config = BitsAndBytesConfig(\n",
    "    load_in_4bit=True,\n",
    "    #bnb_4bit_quant_type=\"nf4\",\n",
    "    #bnb_4bit_compute_dtype=torch.float16\n",
    ")\n",
    "\n",
    "model_id = \"google/gemma-2b-it\"\n",
    "#model_id = \"vicgalle/gpt2-open-instruct-v1\"\n",
    "config = PPOConfig(\n",
    "    model_name=model_id,\n",
    "    learning_rate=LR,\n",
    "    batch_size=BATCH_SIZE,\n",
    "    mini_batch_size=MINI_BATCH_SIZE\n",
    ")\n",
    "\n",
    "lora_config = LoraConfig(\n",
    "    r=8,\n",
    "    target_modules=[\"q_proj\", \"o_proj\", \"k_proj\", \"v_proj\", \"gate_proj\", \"up_proj\", \"down_proj\"],\n",
    "    task_type=\"CAUSAL_LM\",\n",
    ")"
   ]
  },
  {
   "cell_type": "code",
   "execution_count": 2,
   "outputs": [
    {
     "name": "stderr",
     "output_type": "stream",
     "text": [
      "Gemma's activation function should be approximate GeLU and not exact GeLU.\n",
      "Changing the activation function to `gelu_pytorch_tanh`.if you want to use the legacy `gelu`, edit the `model.config` to set `hidden_activation=gelu`   instead of `hidden_act`. See https://github.com/huggingface/transformers/pull/29402 for more details.\n"
     ]
    },
    {
     "data": {
      "text/plain": "Loading checkpoint shards:   0%|          | 0/2 [00:00<?, ?it/s]",
      "application/vnd.jupyter.widget-view+json": {
       "version_major": 2,
       "version_minor": 0,
       "model_id": "60953c06205f4832bb11d64a411e2ac1"
      }
     },
     "metadata": {},
     "output_type": "display_data"
    },
    {
     "name": "stderr",
     "output_type": "stream",
     "text": [
      "WARNING:root:A <class 'peft.peft_model.PeftModelForCausalLM'> model is loaded from 'google/gemma-2b-it', and no v_head weight is found. This IS expected if you are not resuming PPO training.\n"
     ]
    }
   ],
   "source": [
    "tokenizer = AutoTokenizer.from_pretrained(config.model_name, token=os.environ['HF_TOKEN'])\n",
    "tokenizer.pad_token = tokenizer.eos_token\n",
    "\n",
    "model = AutoModelForCausalLMWithValueHead.from_pretrained(config.model_name, quantization_config=bnb_config, peft_config=lora_config, device_map=\"auto\", token=os.environ['HF_TOKEN'])\n",
    "#model = AutoModelForCausalLMWithValueHead.from_pretrained(config.model_name,  device_map=\"auto\", token=os.environ['HF_TOKEN'])\n",
    "\n",
    "optimizer = bnb.optim.Adam8bit(model.parameters(), lr=LR)"
   ],
   "metadata": {
    "collapsed": false
   }
  },
  {
   "cell_type": "code",
   "execution_count": 3,
   "outputs": [
    {
     "name": "stdout",
     "output_type": "stream",
     "text": [
      "You are a Rubik's cube solving assistant. Your job is to generate the next best move\n",
      "when solving a Rubik's cube when given the a Rubik's cube scramble. A scramble is a list of\n",
      "moves that are performed on a fully solved Rubik's cube in order to scramble it up. When replying,\n",
      "you must only reply with a single move.\n",
      "\n",
      "Below I describe the possible moves:\n",
      "U (Up): Rotate the upper face 90 degrees clockwise.\n",
      "U' (Up Prime): Rotate the upper face 90 degrees counter-clockwise.\n",
      "U2: Rotate the upper face 180 degrees.\n",
      "D (Down): Rotate the bottom face 90 degrees clockwise.\n",
      "D' (Down Prime): Rotate the bottom face 90 degrees counter-clockwise.\n",
      "D2: Rotate the bottom face 180 degrees.\n",
      "F (Front): Rotate the front face 90 degrees clockwise.\n",
      "F' (Front Prime): Rotate the front face 90 degrees counter-clockwise.\n",
      "F2: Rotate the front face 180 degrees.\n",
      "B (Back): Rotate the back face 90 degrees clockwise.\n",
      "B' (Back Prime): Rotate the back face 90 degrees counter-clockwise.\n",
      "B2: Rotate the back face 180 degrees.\n",
      "L (Left): Rotate the left face 90 degrees clockwise.\n",
      "L' (Left Prime): Rotate the left face 90 degrees counter-clockwise.\n",
      "L2: Rotate the left face 180 degrees.\n",
      "R (Right): Rotate the right face 90 degrees clockwise.\n",
      "R' (Right Prime): Rotate the right face 90 degrees counter-clockwise.\n",
      "R2: Rotate the right face 180 degrees.\n",
      "\n",
      "Here is an example scramble and correct response.\n",
      "\n",
      "Scramble: F2 B' U2 D' R2 L' U' B2 U2 B U' L2 U2 L U2 R B2 F2 R2 D\n",
      "Response: R\n",
      "\n",
      "Now you should generate the correct response for the following scramble (note: your answer should only contain a single move).\n",
      "Scramble: D2 B2 R' D' R2 B' U2 L2 F' D2 L2 U2 B2 L U' B2 F U2 D' R'\n",
      "Response:\n"
     ]
    }
   ],
   "source": [
    "#text = \"Write me a poem about Machine Learning. Length of the poem should not exceed 10 words.\"\n",
    "with open('prompt.txt', 'r') as file:\n",
    "    text = file.read()\n",
    "print(text)"
   ],
   "metadata": {
    "collapsed": false
   }
  },
  {
   "cell_type": "code",
   "execution_count": 4,
   "outputs": [
    {
     "name": "stderr",
     "output_type": "stream",
     "text": [
      "/home/ace/.virtualenvs/RLproject/lib/python3.11/site-packages/bitsandbytes/nn/modules.py:226: UserWarning: Input type into Linear4bit is torch.float16, but bnb_4bit_compute_dtype=torch.float32 (default). This will lead to slow inference or training speed.\n",
      "  warnings.warn(f'Input type into Linear4bit is torch.float16, but bnb_4bit_compute_dtype=torch.float32 (default). This will lead to slow inference or training speed.')\n"
     ]
    },
    {
     "name": "stdout",
     "output_type": "stream",
     "text": [
      "You are a Rubik's cube solving assistant. Your job is to generate the next best move\n",
      "when solving a Rubik's cube when given the a Rubik's cube scramble. A scramble is a list of\n",
      "moves that are performed on a fully solved Rubik's cube in order to scramble it up. When replying,\n",
      "you must only reply with a single move.\n",
      "\n",
      "Below I describe the possible moves:\n",
      "U (Up): Rotate the upper face 90 degrees clockwise.\n",
      "U' (Up Prime): Rotate the upper face 90 degrees counter-clockwise.\n",
      "U2: Rotate the upper face 180 degrees.\n",
      "D (Down): Rotate the bottom face 90 degrees clockwise.\n",
      "D' (Down Prime): Rotate the bottom face 90 degrees counter-clockwise.\n",
      "D2: Rotate the bottom face 180 degrees.\n",
      "F (Front): Rotate the front face 90 degrees clockwise.\n",
      "F' (Front Prime): Rotate the front face 90 degrees counter-clockwise.\n",
      "F2: Rotate the front face 180 degrees.\n",
      "B (Back): Rotate the back face 90 degrees clockwise.\n",
      "B' (Back Prime): Rotate the back face 90 degrees counter-clockwise.\n",
      "B2: Rotate the back face 180 degrees.\n",
      "L (Left): Rotate the left face 90 degrees clockwise.\n",
      "L' (Left Prime): Rotate the left face 90 degrees counter-clockwise.\n",
      "L2: Rotate the left face 180 degrees.\n",
      "R (Right): Rotate the right face 90 degrees clockwise.\n",
      "R' (Right Prime): Rotate the right face 90 degrees counter-clockwise.\n",
      "R2: Rotate the right face 180 degrees.\n",
      "\n",
      "Here is an example scramble and correct response.\n",
      "\n",
      "Scramble: F2 B' U2 D' R2 L' U' B2 U2 B U' L2 U2 L U2 R B2 F2 R2 D\n",
      "Response: R\n",
      "\n",
      "Now you should generate the correct response for the following scramble (note: your answer should only contain a single move).\n",
      "Scramble: D2 B2 R' D' R2 B' U2 L2 F' D2 L2 U2 B2 L U' B2 F U2 D' R'\n",
      "Response: U'\n"
     ]
    }
   ],
   "source": [
    "device = \"cuda:0\"\n",
    "inputs = tokenizer(text, return_tensors=\"pt\").to(device)\n",
    "\n",
    "outputs = model.generate(**inputs, max_new_tokens=100)\n",
    "print(tokenizer.decode(outputs[0], skip_special_tokens=True))"
   ],
   "metadata": {
    "collapsed": false
   }
  },
  {
   "cell_type": "code",
   "execution_count": 5,
   "outputs": [],
   "source": [
    "data_path = 'datasets/Kociemba_solutions.csv'\n",
    "data = load_data(data_path)\n",
    "dataset = RubiksDataset(tokenizer, data)\n",
    "dataloader = DataLoader(dataset, batch_size=1, shuffle=True)"
   ],
   "metadata": {
    "collapsed": false
   }
  },
  {
   "cell_type": "code",
   "execution_count": 6,
   "outputs": [
    {
     "name": "stderr",
     "output_type": "stream",
     "text": [
      "/home/ace/.virtualenvs/RLproject/lib/python3.11/site-packages/trl/trainer/ppo_trainer.py:262: UserWarning: No dataset is provided. Make sure to set config.batch_size to the correct value before training.\n",
      "  warnings.warn(\n"
     ]
    }
   ],
   "source": [
    "ppo_trainer = PPOTrainer(\n",
    "    model=model,\n",
    "    config=config,\n",
    "    tokenizer=tokenizer,\n",
    "    optimizer= optimizer\n",
    ")"
   ],
   "metadata": {
    "collapsed": false
   }
  },
  {
   "cell_type": "code",
   "execution_count": null,
   "outputs": [
    {
     "name": "stderr",
     "output_type": "stream",
     "text": [
      "epoch:   0%|          | 0/1 [00:00<?, ?it/s]\n",
      "  0%|          | 0/1000 [00:00<?, ?it/s]\u001B[A"
     ]
    },
    {
     "name": "stdout",
     "output_type": "stream",
     "text": [
      " U<eos>\n"
     ]
    },
    {
     "name": "stderr",
     "output_type": "stream",
     "text": [
      "/home/ace/.virtualenvs/RLproject/lib/python3.11/site-packages/trl/trainer/ppo_trainer.py:1285: UserWarning: std(): degrees of freedom is <= 0. Correction should be strictly less than the reduction factor (input numel divided by output numel). (Triggered internally at ../aten/src/ATen/native/ReduceOps.cpp:1760.)\n",
      "  std_scores = data[\"scores\"].std()\n",
      "/home/ace/.virtualenvs/RLproject/lib/python3.11/site-packages/trl/trainer/ppo_trainer.py:1312: UserWarning: std(): degrees of freedom is <= 0. Correction should be strictly less than the reduction factor (input numel divided by output numel). (Triggered internally at ../aten/src/ATen/native/ReduceOps.cpp:1760.)\n",
      "  stats[\"tokens/queries_len_std\"] = torch.std(query_lens).cpu().numpy().item()\n",
      "/home/ace/.virtualenvs/RLproject/lib/python3.11/site-packages/trl/trainer/ppo_trainer.py:1315: UserWarning: std(): degrees of freedom is <= 0. Correction should be strictly less than the reduction factor (input numel divided by output numel). (Triggered internally at ../aten/src/ATen/native/ReduceOps.cpp:1760.)\n",
      "  stats[\"tokens/responses_len_std\"] = torch.std(response_lens).cpu().numpy().item()\n",
      "\n",
      "  0%|          | 1/1000 [00:04<1:18:39,  4.72s/it]\u001B[A"
     ]
    },
    {
     "name": "stdout",
     "output_type": "stream",
     "text": [
      " U'<eos>\n"
     ]
    },
    {
     "name": "stderr",
     "output_type": "stream",
     "text": [
      "/home/ace/.virtualenvs/RLproject/lib/python3.11/site-packages/trl/trainer/ppo_trainer.py:1289: UserWarning: KL divergence is starting to become negative: -4.88 - this might be a precursor for failed training. sometimes this happens because the generation kwargs are not correctly set. Please make sure that the generation kwargs are set correctly, or review your training hyperparameters.\n",
      "  warnings.warn(\n",
      "\n",
      "  0%|          | 2/1000 [00:09<1:17:48,  4.68s/it]\u001B[A"
     ]
    },
    {
     "name": "stdout",
     "output_type": "stream",
     "text": [
      " U<eos>\n"
     ]
    },
    {
     "name": "stderr",
     "output_type": "stream",
     "text": [
      "/home/ace/.virtualenvs/RLproject/lib/python3.11/site-packages/trl/trainer/ppo_trainer.py:1289: UserWarning: KL divergence is starting to become negative: -6.69 - this might be a precursor for failed training. sometimes this happens because the generation kwargs are not correctly set. Please make sure that the generation kwargs are set correctly, or review your training hyperparameters.\n",
      "  warnings.warn(\n",
      "\n",
      "  0%|          | 3/1000 [00:13<1:16:53,  4.63s/it]\u001B[A"
     ]
    },
    {
     "name": "stdout",
     "output_type": "stream",
     "text": [
      " U<eos>\n"
     ]
    },
    {
     "name": "stderr",
     "output_type": "stream",
     "text": [
      "/home/ace/.virtualenvs/RLproject/lib/python3.11/site-packages/trl/trainer/ppo_trainer.py:1289: UserWarning: KL divergence is starting to become negative: -5.48 - this might be a precursor for failed training. sometimes this happens because the generation kwargs are not correctly set. Please make sure that the generation kwargs are set correctly, or review your training hyperparameters.\n",
      "  warnings.warn(\n",
      "\n",
      "  0%|          | 4/1000 [00:18<1:17:10,  4.65s/it]\u001B[A"
     ]
    },
    {
     "name": "stdout",
     "output_type": "stream",
     "text": [
      " U<eos>\n"
     ]
    },
    {
     "name": "stderr",
     "output_type": "stream",
     "text": [
      "/home/ace/.virtualenvs/RLproject/lib/python3.11/site-packages/trl/trainer/ppo_trainer.py:1289: UserWarning: KL divergence is starting to become negative: -10.07 - this might be a precursor for failed training. sometimes this happens because the generation kwargs are not correctly set. Please make sure that the generation kwargs are set correctly, or review your training hyperparameters.\n",
      "  warnings.warn(\n",
      "\n",
      "  0%|          | 5/1000 [00:23<1:17:18,  4.66s/it]\u001B[A"
     ]
    },
    {
     "name": "stdout",
     "output_type": "stream",
     "text": [
      " U'<eos>\n"
     ]
    },
    {
     "name": "stderr",
     "output_type": "stream",
     "text": [
      "/home/ace/.virtualenvs/RLproject/lib/python3.11/site-packages/trl/trainer/ppo_trainer.py:1289: UserWarning: KL divergence is starting to become negative: -14.96 - this might be a precursor for failed training. sometimes this happens because the generation kwargs are not correctly set. Please make sure that the generation kwargs are set correctly, or review your training hyperparameters.\n",
      "  warnings.warn(\n",
      "\n",
      "  1%|          | 6/1000 [00:27<1:16:52,  4.64s/it]\u001B[A"
     ]
    },
    {
     "name": "stdout",
     "output_type": "stream",
     "text": [
      " U<eos>\n"
     ]
    },
    {
     "name": "stderr",
     "output_type": "stream",
     "text": [
      "/home/ace/.virtualenvs/RLproject/lib/python3.11/site-packages/trl/trainer/ppo_trainer.py:1289: UserWarning: KL divergence is starting to become negative: -14.88 - this might be a precursor for failed training. sometimes this happens because the generation kwargs are not correctly set. Please make sure that the generation kwargs are set correctly, or review your training hyperparameters.\n",
      "  warnings.warn(\n",
      "\n",
      "  1%|          | 7/1000 [00:32<1:16:22,  4.61s/it]\u001B[A"
     ]
    },
    {
     "name": "stdout",
     "output_type": "stream",
     "text": [
      " U<eos>\n"
     ]
    },
    {
     "name": "stderr",
     "output_type": "stream",
     "text": [
      "/home/ace/.virtualenvs/RLproject/lib/python3.11/site-packages/trl/trainer/ppo_trainer.py:1289: UserWarning: KL divergence is starting to become negative: -19.84 - this might be a precursor for failed training. sometimes this happens because the generation kwargs are not correctly set. Please make sure that the generation kwargs are set correctly, or review your training hyperparameters.\n",
      "  warnings.warn(\n",
      "\n",
      "  1%|          | 8/1000 [00:37<1:16:00,  4.60s/it]\u001B[A"
     ]
    },
    {
     "name": "stdout",
     "output_type": "stream",
     "text": [
      " U<eos>\n"
     ]
    },
    {
     "name": "stderr",
     "output_type": "stream",
     "text": [
      "/home/ace/.virtualenvs/RLproject/lib/python3.11/site-packages/trl/trainer/ppo_trainer.py:1289: UserWarning: KL divergence is starting to become negative: -17.66 - this might be a precursor for failed training. sometimes this happens because the generation kwargs are not correctly set. Please make sure that the generation kwargs are set correctly, or review your training hyperparameters.\n",
      "  warnings.warn(\n",
      "\n",
      "  1%|          | 9/1000 [00:41<1:15:43,  4.58s/it]\u001B[A"
     ]
    },
    {
     "name": "stdout",
     "output_type": "stream",
     "text": [
      " U'<eos>\n"
     ]
    },
    {
     "name": "stderr",
     "output_type": "stream",
     "text": [
      "/home/ace/.virtualenvs/RLproject/lib/python3.11/site-packages/trl/trainer/ppo_trainer.py:1289: UserWarning: KL divergence is starting to become negative: -25.14 - this might be a precursor for failed training. sometimes this happens because the generation kwargs are not correctly set. Please make sure that the generation kwargs are set correctly, or review your training hyperparameters.\n",
      "  warnings.warn(\n",
      "\n",
      "  1%|          | 10/1000 [00:46<1:15:49,  4.60s/it]\u001B[A"
     ]
    },
    {
     "name": "stdout",
     "output_type": "stream",
     "text": [
      " U'<eos>\n"
     ]
    },
    {
     "name": "stderr",
     "output_type": "stream",
     "text": [
      "/home/ace/.virtualenvs/RLproject/lib/python3.11/site-packages/trl/trainer/ppo_trainer.py:1289: UserWarning: KL divergence is starting to become negative: -35.42 - this might be a precursor for failed training. sometimes this happens because the generation kwargs are not correctly set. Please make sure that the generation kwargs are set correctly, or review your training hyperparameters.\n",
      "  warnings.warn(\n",
      "\n",
      "  1%|          | 11/1000 [00:50<1:15:45,  4.60s/it]\u001B[A"
     ]
    },
    {
     "name": "stdout",
     "output_type": "stream",
     "text": [
      " U'<eos>\n"
     ]
    },
    {
     "name": "stderr",
     "output_type": "stream",
     "text": [
      "/home/ace/.virtualenvs/RLproject/lib/python3.11/site-packages/trl/trainer/ppo_trainer.py:1289: UserWarning: KL divergence is starting to become negative: -46.88 - this might be a precursor for failed training. sometimes this happens because the generation kwargs are not correctly set. Please make sure that the generation kwargs are set correctly, or review your training hyperparameters.\n",
      "  warnings.warn(\n",
      "\n",
      "  1%|          | 12/1000 [00:55<1:17:09,  4.69s/it]\u001B[A"
     ]
    },
    {
     "name": "stdout",
     "output_type": "stream",
     "text": [
      " U'<eos>\n"
     ]
    },
    {
     "name": "stderr",
     "output_type": "stream",
     "text": [
      "/home/ace/.virtualenvs/RLproject/lib/python3.11/site-packages/trl/trainer/ppo_trainer.py:1289: UserWarning: KL divergence is starting to become negative: -47.70 - this might be a precursor for failed training. sometimes this happens because the generation kwargs are not correctly set. Please make sure that the generation kwargs are set correctly, or review your training hyperparameters.\n",
      "  warnings.warn(\n",
      "\n",
      "  1%|▏         | 13/1000 [01:00<1:17:41,  4.72s/it]\u001B[A"
     ]
    },
    {
     "name": "stdout",
     "output_type": "stream",
     "text": [
      " ................<eos>\n"
     ]
    },
    {
     "name": "stderr",
     "output_type": "stream",
     "text": [
      "/home/ace/.virtualenvs/RLproject/lib/python3.11/site-packages/trl/trainer/ppo_trainer.py:1289: UserWarning: KL divergence is starting to become negative: -49.34 - this might be a precursor for failed training. sometimes this happens because the generation kwargs are not correctly set. Please make sure that the generation kwargs are set correctly, or review your training hyperparameters.\n",
      "  warnings.warn(\n",
      "\n",
      "  1%|▏         | 14/1000 [01:05<1:16:53,  4.68s/it]\u001B[A"
     ]
    },
    {
     "name": "stdout",
     "output_type": "stream",
     "text": [
      " \n",
      "<eos>\n"
     ]
    },
    {
     "name": "stderr",
     "output_type": "stream",
     "text": [
      "/home/ace/.virtualenvs/RLproject/lib/python3.11/site-packages/trl/trainer/ppo_trainer.py:1289: UserWarning: KL divergence is starting to become negative: -60.50 - this might be a precursor for failed training. sometimes this happens because the generation kwargs are not correctly set. Please make sure that the generation kwargs are set correctly, or review your training hyperparameters.\n",
      "  warnings.warn(\n",
      "\n",
      "  2%|▏         | 15/1000 [01:09<1:16:24,  4.65s/it]\u001B[A"
     ]
    },
    {
     "name": "stdout",
     "output_type": "stream",
     "text": [
      " \n",
      "<eos>\n"
     ]
    },
    {
     "name": "stderr",
     "output_type": "stream",
     "text": [
      "/home/ace/.virtualenvs/RLproject/lib/python3.11/site-packages/trl/trainer/ppo_trainer.py:1289: UserWarning: KL divergence is starting to become negative: -60.76 - this might be a precursor for failed training. sometimes this happens because the generation kwargs are not correctly set. Please make sure that the generation kwargs are set correctly, or review your training hyperparameters.\n",
      "  warnings.warn(\n",
      "\n",
      "  2%|▏         | 16/1000 [01:14<1:15:59,  4.63s/it]\u001B[A"
     ]
    },
    {
     "name": "stdout",
     "output_type": "stream",
     "text": [
      " \n",
      "<eos>\n"
     ]
    },
    {
     "name": "stderr",
     "output_type": "stream",
     "text": [
      "/home/ace/.virtualenvs/RLproject/lib/python3.11/site-packages/trl/trainer/ppo_trainer.py:1289: UserWarning: KL divergence is starting to become negative: -64.24 - this might be a precursor for failed training. sometimes this happens because the generation kwargs are not correctly set. Please make sure that the generation kwargs are set correctly, or review your training hyperparameters.\n",
      "  warnings.warn(\n",
      "\n",
      "  2%|▏         | 17/1000 [01:18<1:15:22,  4.60s/it]\u001B[A"
     ]
    },
    {
     "name": "stdout",
     "output_type": "stream",
     "text": [
      " \n",
      "<eos>\n"
     ]
    },
    {
     "name": "stderr",
     "output_type": "stream",
     "text": [
      "/home/ace/.virtualenvs/RLproject/lib/python3.11/site-packages/trl/trainer/ppo_trainer.py:1289: UserWarning: KL divergence is starting to become negative: -73.75 - this might be a precursor for failed training. sometimes this happens because the generation kwargs are not correctly set. Please make sure that the generation kwargs are set correctly, or review your training hyperparameters.\n",
      "  warnings.warn(\n",
      "\n",
      "  2%|▏         | 18/1000 [01:23<1:15:20,  4.60s/it]\u001B[A"
     ]
    },
    {
     "name": "stdout",
     "output_type": "stream",
     "text": [
      " ................<eos>\n"
     ]
    },
    {
     "name": "stderr",
     "output_type": "stream",
     "text": [
      "/home/ace/.virtualenvs/RLproject/lib/python3.11/site-packages/trl/trainer/ppo_trainer.py:1289: UserWarning: KL divergence is starting to become negative: -80.14 - this might be a precursor for failed training. sometimes this happens because the generation kwargs are not correctly set. Please make sure that the generation kwargs are set correctly, or review your training hyperparameters.\n",
      "  warnings.warn(\n",
      "\n",
      "  2%|▏         | 19/1000 [01:27<1:15:05,  4.59s/it]\u001B[A"
     ]
    },
    {
     "name": "stdout",
     "output_type": "stream",
     "text": [
      " ................<eos>\n"
     ]
    }
   ],
   "source": [
    "epochs = 1\n",
    "\n",
    "for epoch in tqdm(range(epochs), \"epoch: \"):\n",
    "    for query_tensors, correct_answers in tqdm(dataloader):\n",
    "        query_tensors = query_tensors.squeeze(1)\n",
    "        query_tensors = list(torch.unbind(query_tensors, dim=0))\n",
    "        #### Get response from model\n",
    "        response_tensors = [ppo_trainer.generate(query_tensor, max_length=570).squeeze(0) for query_tensor in query_tensors]\n",
    "        responses = [tokenizer.decode(r.squeeze()) for r in response_tensors]\n",
    "\n",
    "        #### Compute reward score\n",
    "        rewards = [torch.tensor(reward_model_strict(correct_answer, response), dtype=torch.float16) for correct_answer, response in zip(correct_answers, responses)]\n",
    "\n",
    "        #### Run PPO step\n",
    "        stats = ppo_trainer.step(query_tensors, response_tensors, rewards)\n",
    "\n",
    "        #TODO: log stats\n",
    "        # ppo_trainer.log_stats(stats, batch, rewards)\n",
    "\n",
    "#### Save model\n",
    "ppo_trainer.save_model(f\"gemma-2b-it-rlhf-kociemba\")"
   ],
   "metadata": {
    "collapsed": false,
    "pycharm": {
     "is_executing": true
    }
   }
  },
  {
   "cell_type": "code",
   "execution_count": null,
   "outputs": [],
   "source": [],
   "metadata": {
    "collapsed": false,
    "pycharm": {
     "is_executing": true
    }
   }
  }
 ],
 "metadata": {
  "kernelspec": {
   "display_name": "Python 3",
   "language": "python",
   "name": "python3"
  },
  "language_info": {
   "codemirror_mode": {
    "name": "ipython",
    "version": 2
   },
   "file_extension": ".py",
   "mimetype": "text/x-python",
   "name": "python",
   "nbconvert_exporter": "python",
   "pygments_lexer": "ipython2",
   "version": "2.7.6"
  }
 },
 "nbformat": 4,
 "nbformat_minor": 0
}
