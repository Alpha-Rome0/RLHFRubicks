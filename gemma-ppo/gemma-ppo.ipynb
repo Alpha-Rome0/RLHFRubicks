{
 "cells": [
  {
   "cell_type": "code",
   "execution_count": null,
   "metadata": {},
   "outputs": [],
   "source": [
    "import torch, os\n",
    "from tqdm import tqdm\n",
    "from transformers import AutoTokenizer, AutoModelForCausalLM, BitsAndBytesConfig, GemmaTokenizer\n",
    "from trl import AutoModelForCausalLMWithValueHead, PPOConfig, PPOTrainer\n",
    "from dataset import load_data, RubiksDataset\n",
    "from torch.utils.data import DataLoader\n",
    "from reward import reward_model_strict, reward_R, reward_U\n",
    "from peft import LoraConfig\n",
    "import bitsandbytes as bnb\n",
    "\n",
    "LR = 1.41e-5\n",
    "BATCH_SIZE = 1\n",
    "MINI_BATCH_SIZE = 1"
   ]
  },
  {
   "cell_type": "code",
   "execution_count": null,
   "metadata": {
    "collapsed": true
   },
   "outputs": [],
   "source": [
    "device = torch.device('cuda:0' if torch.cuda.is_available() else 'cpu')\n",
    "\n",
    "bnb_config = BitsAndBytesConfig(\n",
    "    load_in_4bit=True,\n",
    "    bnb_4bit_quant_type=\"nf4\",\n",
    "    bnb_4bit_compute_dtype=torch.float16\n",
    ")\n",
    "\n",
    "model_id = \"google/gemma-2b-it\"\n",
    "# model_id = \"vicgalle/gpt2-open-instruct-v1\"\n",
    "config = PPOConfig(\n",
    "    model_name=model_id,\n",
    "    learning_rate=LR,\n",
    "    batch_size=BATCH_SIZE,\n",
    "    mini_batch_size=MINI_BATCH_SIZE\n",
    ")\n",
    "\n",
    "lora_config = LoraConfig(\n",
    "    r=8,\n",
    "    target_modules=[\"q_proj\", \"o_proj\", \"k_proj\", \"v_proj\", \"gate_proj\", \"up_proj\", \"down_proj\"],\n",
    "    task_type=\"CAUSAL_LM\",\n",
    ")"
   ]
  },
  {
   "cell_type": "code",
   "execution_count": null,
   "metadata": {
    "collapsed": false
   },
   "outputs": [],
   "source": [
    "tokenizer = AutoTokenizer.from_pretrained(config.model_name, token=os.environ['HF_TOKEN']))\n",
    "tokenizer.pad_token = tokenizer.eos_token\n",
    "\n",
    "model = AutoModelForCausalLMWithValueHead.from_pretrained(config.model_name, quantization_config=bnb_config, peft_config=lora_config, device_map=\"auto\", token=os.environ['HF_TOKEN']))\n",
    "# model = AutoModelForCausalLMWithValueHead.from_pretrained(config.model_name, peft_config=lora_config, device_map=\"auto\", token=os.environ['HF_TOKEN']))\n",
    "#model = AutoModelForCausalLMWithValueHead.from_pretrained(config.model_name,  device_map=\"auto\", token=os.environ['HF_TOKEN'])\n",
    "\n",
    "optimizer = bnb.optim.Adam8bit(model.parameters(), lr=LR)"
   ]
  },
  {
   "cell_type": "code",
   "execution_count": null,
   "metadata": {
    "collapsed": false
   },
   "outputs": [],
   "source": [
    "#text = \"Write me a poem about Machine Learning. Length of the poem should not exceed 10 words.\"\n",
    "with open('prompt.txt', 'r') as file:\n",
    "    text = file.read()\n",
    "print(text)"
   ]
  },
  {
   "cell_type": "code",
   "execution_count": null,
   "metadata": {
    "collapsed": false
   },
   "outputs": [],
   "source": [
    "device = \"cuda:0\"\n",
    "inputs = tokenizer(text, return_tensors=\"pt\").to(device)\n",
    "\n",
    "outputs = model.generate(**inputs, max_new_tokens=100)\n",
    "print(tokenizer.decode(outputs[0], skip_special_tokens=True))"
   ]
  },
  {
   "cell_type": "code",
   "execution_count": null,
   "metadata": {
    "collapsed": false
   },
   "outputs": [],
   "source": [
    "data_path = 'datasets/Kociemba_solutions.csv'\n",
    "data = load_data(data_path)\n",
    "dataset = RubiksDataset(tokenizer, data)\n",
    "dataloader = DataLoader(dataset, batch_size=BATCH_SIZE, shuffle=True)"
   ]
  },
  {
   "cell_type": "code",
   "execution_count": null,
   "metadata": {
    "collapsed": false
   },
   "outputs": [],
   "source": [
    "ppo_trainer = PPOTrainer(\n",
    "    model=model,\n",
    "    config=config,\n",
    "    tokenizer=tokenizer,\n",
    "    optimizer= optimizer\n",
    ")\n",
    "\n",
    "generation_kwargs = {\n",
    "    \"min_length\": -1,\n",
    "    \"top_k\": 0.0,\n",
    "    \"top_p\": 1.0,\n",
    "    \"do_sample\": True,\n",
    "    \"pad_token_id\": tokenizer.eos_token_id,\n",
    "    \"max_length\": 570\n",
    "}"
   ]
  },
  {
   "cell_type": "code",
   "execution_count": null,
   "metadata": {
    "collapsed": false
   },
   "outputs": [],
   "source": [
    "epochs = 1\n",
    "\n",
    "for epoch in tqdm(range(epochs), \"epoch: \"):\n",
    "    for query_tensors, correct_answers in tqdm(dataloader):\n",
    "        query_tensors = query_tensors.squeeze(1)\n",
    "        query_tensors = [list(torch.unbind(query_tensors, dim=0))[0] for i in range(BATCH_SIZE)]\n",
    "        #### Get response from model\n",
    "        response_tensors = [ppo_trainer.generate(query_tensor, **generation_kwargs)[0] for query_tensor in query_tensors]\n",
    "        responses = [tokenizer.decode(r.squeeze()) for r in response_tensors]\n",
    "\n",
    "        #### Compute reward score\n",
    "        rewards = [torch.tensor(reward_R(correct_answer, response), dtype=torch.float16) for correct_answer, response in zip(correct_answers, responses)]\n",
    "        #### Run PPO step\n",
    "        stats = ppo_trainer.step(query_tensors, response_tensors, rewards)\n",
    "\n",
    "        #TODO: log stats\n",
    "        # ppo_trainer.log_stats(stats, batch, rewards)\n",
    "\n",
    "#### Save model\n",
    "ppo_trainer.save_pretrained(f\"gemma-2b-it-rlhf-kociemba\")"
   ]
  },
  {
   "cell_type": "code",
   "execution_count": null,
   "metadata": {
    "collapsed": false
   },
   "outputs": [],
   "source": [
    "#### Save model\n",
    "ppo_trainer.save_pretrained(f\"gemma-2b-it-rlhf-kociemba\")"
   ]
  },
  {
   "cell_type": "code",
   "execution_count": null,
   "metadata": {
    "collapsed": false
   },
   "outputs": [],
   "source": []
  }
 ],
 "metadata": {
  "kernelspec": {
   "display_name": "base",
   "language": "python",
   "name": "python3"
  },
  "language_info": {
   "codemirror_mode": {
    "name": "ipython",
    "version": 3
   },
   "file_extension": ".py",
   "mimetype": "text/x-python",
   "name": "python",
   "nbconvert_exporter": "python",
   "pygments_lexer": "ipython3",
   "version": "3.11.8"
  },
  "vscode": {
   "interpreter": {
    "hash": "3cd6ba40dbc8db86f20d35d89848201e1d428555a5ba3125e3baa34dc999d46d"
   }
  }
 },
 "nbformat": 4,
 "nbformat_minor": 0
}
